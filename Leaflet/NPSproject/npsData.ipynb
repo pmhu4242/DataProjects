{
 "cells": [
  {
   "cell_type": "code",
   "execution_count": 13,
   "metadata": {},
   "outputs": [],
   "source": [
    "\n",
    "import pandas as pd\n",
    "import csv\n",
    "import os\n",
    "from sqlalchemy import create_engine \n",
    "from sqlalchemy.ext.automap import automap_base\n",
    "from sqlalchemy.orm import Session\n",
    "from sqlalchemy import create_engine, func\n",
    "\n",
    "from pymongo import MongoClient\n"
   ]
  },
  {
   "cell_type": "code",
   "execution_count": 45,
   "metadata": {},
   "outputs": [
    {
     "output_type": "execute_result",
     "data": {
      "text/plain": [
       "                                      Park Recreation Visitors Percent Change  \\\n",
       "State                                                                           \n",
       "Alabama                                NaN                 NaN            NaN   \n",
       "NaN                     Horseshoe Bend NMP              28,600        -36.97%   \n",
       "NaN              Little River Canyon NPRES             802,375         23.44%   \n",
       "NaN                     Natchez Trace PKWY             428,736         -2.72%   \n",
       "NaN                        Russell Cave NM               8,462        -49.15%   \n",
       "...                                    ...                 ...            ...   \n",
       "NaN                         Grand Teton NP           3,289,638         -3.41%   \n",
       "NaN      John D. Rockefeller, Jr. MEM PKWY           1,373,817         -3.70%   \n",
       "NaN                         Yellowstone NP           1,865,088         -5.32%   \n",
       "NaN                       Subtotal Wyoming           7,089,437         -4.60%   \n",
       "Total                          Grand Total         237,064,318        -27.62%   \n",
       "\n",
       "        Recreation Visitor Days Percent Change.1 Non-recreation Visitors  \\\n",
       "State                                                                      \n",
       "Alabama                     NaN              NaN                     NaN   \n",
       "NaN                       8,788          -25.20%                       0   \n",
       "NaN                     168,827           27.60%                       0   \n",
       "NaN                     143,413           -3.01%                 583,028   \n",
       "NaN                       1,074          -55.36%                       0   \n",
       "...                         ...              ...                     ...   \n",
       "NaN                   1,486,410          -15.87%               1,220,029   \n",
       "NaN                     144,764            2.19%                  10,800   \n",
       "NaN                   3,125,466          -32.55%               1,099,227   \n",
       "NaN                   4,883,337          -27.08%               2,334,598   \n",
       "Total                87,912,527          -26.23%             148,436,337   \n",
       "\n",
       "        Percent Change.2 Recreation Visitor Hours Percent Change.3  \\\n",
       "State                                                                \n",
       "Alabama              NaN                      NaN              NaN   \n",
       "NaN                  NaN                  105,461          -25.20%   \n",
       "NaN                  NaN                2,025,934           27.60%   \n",
       "NaN               -9.08%                1,720,966           -3.01%   \n",
       "NaN                  NaN                   12,894          -55.35%   \n",
       "...                  ...                      ...              ...   \n",
       "NaN              -24.23%               17,836,930          -15.87%   \n",
       "NaN                0.00%                1,737,179            2.19%   \n",
       "NaN               -5.70%               37,505,599          -32.55%   \n",
       "NaN              -16.40%               58,600,107          -27.08%   \n",
       "Total                NaN            1,054,952,561          -26.23%   \n",
       "\n",
       "        Non-recreation Visitor Hours  ... Tent Overnights Percent Change.7  \\\n",
       "State                                 ...                                    \n",
       "Alabama                          NaN  ...             NaN              NaN   \n",
       "NaN                                0  ...               0              NaN   \n",
       "NaN                                0  ...               0              NaN   \n",
       "NaN                          583,028  ...               0              NaN   \n",
       "NaN                                0  ...               0              NaN   \n",
       "...                              ...  ...             ...              ...   \n",
       "NaN                        1,220,029  ...               0              NaN   \n",
       "NaN                            2,700  ...               0              NaN   \n",
       "NaN                          557,631  ...          19,731          -75.65%   \n",
       "NaN                        1,783,120  ...          21,732          -74.93%   \n",
       "Total                     80,268,799  ...       1,883,220              NaN   \n",
       "\n",
       "        Recreation Vehicle Overnights Percent Change.8  \\\n",
       "State                                                    \n",
       "Alabama                           NaN              NaN   \n",
       "NaN                                 0              NaN   \n",
       "NaN                                 0              NaN   \n",
       "NaN                                 0              NaN   \n",
       "NaN                                 0              NaN   \n",
       "...                               ...              ...   \n",
       "NaN                                 0              NaN   \n",
       "NaN                                 0              NaN   \n",
       "NaN                            23,290          -70.99%   \n",
       "NaN                            31,763          -63.77%   \n",
       "Total                       1,459,486              NaN   \n",
       "\n",
       "        Back Country\\nOvernights Percent Change.9 Non-recreation Overnights  \\\n",
       "State                                                                         \n",
       "Alabama                      NaN              NaN                       NaN   \n",
       "NaN                            0              NaN                         0   \n",
       "NaN                            0              NaN                         0   \n",
       "NaN                            0              NaN                         0   \n",
       "NaN                            0              NaN                         0   \n",
       "...                          ...              ...                       ...   \n",
       "NaN                       40,249           10.90%                         0   \n",
       "NaN                            0              NaN                         0   \n",
       "NaN                       33,457            2.94%                         0   \n",
       "NaN                       73,706              NaN                         0   \n",
       "Total                  1,434,938              NaN                    30,708   \n",
       "\n",
       "        Percent Change.10 Misc. Overnights Percent Change.11  \n",
       "State                                                         \n",
       "Alabama               NaN              NaN               NaN  \n",
       "NaN                   NaN                0               NaN  \n",
       "NaN                   NaN                0               NaN  \n",
       "NaN                   NaN                0               NaN  \n",
       "NaN                   NaN                0               NaN  \n",
       "...                   ...              ...               ...  \n",
       "NaN                   NaN                0               NaN  \n",
       "NaN                   NaN                0               NaN  \n",
       "NaN               -74.86%            2,491               NaN  \n",
       "NaN                   NaN            2,491               NaN  \n",
       "Total                 NaN          906,939               NaN  \n",
       "\n",
       "[517 rows x 25 columns]"
      ],
      "text/html": "<div>\n<style scoped>\n    .dataframe tbody tr th:only-of-type {\n        vertical-align: middle;\n    }\n\n    .dataframe tbody tr th {\n        vertical-align: top;\n    }\n\n    .dataframe thead th {\n        text-align: right;\n    }\n</style>\n<table border=\"1\" class=\"dataframe\">\n  <thead>\n    <tr style=\"text-align: right;\">\n      <th></th>\n      <th>Park</th>\n      <th>Recreation Visitors</th>\n      <th>Percent Change</th>\n      <th>Recreation Visitor Days</th>\n      <th>Percent Change.1</th>\n      <th>Non-recreation Visitors</th>\n      <th>Percent Change.2</th>\n      <th>Recreation Visitor Hours</th>\n      <th>Percent Change.3</th>\n      <th>Non-recreation Visitor Hours</th>\n      <th>...</th>\n      <th>Tent Overnights</th>\n      <th>Percent Change.7</th>\n      <th>Recreation Vehicle Overnights</th>\n      <th>Percent Change.8</th>\n      <th>Back Country\\nOvernights</th>\n      <th>Percent Change.9</th>\n      <th>Non-recreation Overnights</th>\n      <th>Percent Change.10</th>\n      <th>Misc. Overnights</th>\n      <th>Percent Change.11</th>\n    </tr>\n    <tr>\n      <th>State</th>\n      <th></th>\n      <th></th>\n      <th></th>\n      <th></th>\n      <th></th>\n      <th></th>\n      <th></th>\n      <th></th>\n      <th></th>\n      <th></th>\n      <th></th>\n      <th></th>\n      <th></th>\n      <th></th>\n      <th></th>\n      <th></th>\n      <th></th>\n      <th></th>\n      <th></th>\n      <th></th>\n      <th></th>\n    </tr>\n  </thead>\n  <tbody>\n    <tr>\n      <th>Alabama</th>\n      <td>NaN</td>\n      <td>NaN</td>\n      <td>NaN</td>\n      <td>NaN</td>\n      <td>NaN</td>\n      <td>NaN</td>\n      <td>NaN</td>\n      <td>NaN</td>\n      <td>NaN</td>\n      <td>NaN</td>\n      <td>...</td>\n      <td>NaN</td>\n      <td>NaN</td>\n      <td>NaN</td>\n      <td>NaN</td>\n      <td>NaN</td>\n      <td>NaN</td>\n      <td>NaN</td>\n      <td>NaN</td>\n      <td>NaN</td>\n      <td>NaN</td>\n    </tr>\n    <tr>\n      <th>NaN</th>\n      <td>Horseshoe Bend NMP</td>\n      <td>28,600</td>\n      <td>-36.97%</td>\n      <td>8,788</td>\n      <td>-25.20%</td>\n      <td>0</td>\n      <td>NaN</td>\n      <td>105,461</td>\n      <td>-25.20%</td>\n      <td>0</td>\n      <td>...</td>\n      <td>0</td>\n      <td>NaN</td>\n      <td>0</td>\n      <td>NaN</td>\n      <td>0</td>\n      <td>NaN</td>\n      <td>0</td>\n      <td>NaN</td>\n      <td>0</td>\n      <td>NaN</td>\n    </tr>\n    <tr>\n      <th>NaN</th>\n      <td>Little River Canyon NPRES</td>\n      <td>802,375</td>\n      <td>23.44%</td>\n      <td>168,827</td>\n      <td>27.60%</td>\n      <td>0</td>\n      <td>NaN</td>\n      <td>2,025,934</td>\n      <td>27.60%</td>\n      <td>0</td>\n      <td>...</td>\n      <td>0</td>\n      <td>NaN</td>\n      <td>0</td>\n      <td>NaN</td>\n      <td>0</td>\n      <td>NaN</td>\n      <td>0</td>\n      <td>NaN</td>\n      <td>0</td>\n      <td>NaN</td>\n    </tr>\n    <tr>\n      <th>NaN</th>\n      <td>Natchez Trace PKWY</td>\n      <td>428,736</td>\n      <td>-2.72%</td>\n      <td>143,413</td>\n      <td>-3.01%</td>\n      <td>583,028</td>\n      <td>-9.08%</td>\n      <td>1,720,966</td>\n      <td>-3.01%</td>\n      <td>583,028</td>\n      <td>...</td>\n      <td>0</td>\n      <td>NaN</td>\n      <td>0</td>\n      <td>NaN</td>\n      <td>0</td>\n      <td>NaN</td>\n      <td>0</td>\n      <td>NaN</td>\n      <td>0</td>\n      <td>NaN</td>\n    </tr>\n    <tr>\n      <th>NaN</th>\n      <td>Russell Cave NM</td>\n      <td>8,462</td>\n      <td>-49.15%</td>\n      <td>1,074</td>\n      <td>-55.36%</td>\n      <td>0</td>\n      <td>NaN</td>\n      <td>12,894</td>\n      <td>-55.35%</td>\n      <td>0</td>\n      <td>...</td>\n      <td>0</td>\n      <td>NaN</td>\n      <td>0</td>\n      <td>NaN</td>\n      <td>0</td>\n      <td>NaN</td>\n      <td>0</td>\n      <td>NaN</td>\n      <td>0</td>\n      <td>NaN</td>\n    </tr>\n    <tr>\n      <th>...</th>\n      <td>...</td>\n      <td>...</td>\n      <td>...</td>\n      <td>...</td>\n      <td>...</td>\n      <td>...</td>\n      <td>...</td>\n      <td>...</td>\n      <td>...</td>\n      <td>...</td>\n      <td>...</td>\n      <td>...</td>\n      <td>...</td>\n      <td>...</td>\n      <td>...</td>\n      <td>...</td>\n      <td>...</td>\n      <td>...</td>\n      <td>...</td>\n      <td>...</td>\n      <td>...</td>\n    </tr>\n    <tr>\n      <th>NaN</th>\n      <td>Grand Teton NP</td>\n      <td>3,289,638</td>\n      <td>-3.41%</td>\n      <td>1,486,410</td>\n      <td>-15.87%</td>\n      <td>1,220,029</td>\n      <td>-24.23%</td>\n      <td>17,836,930</td>\n      <td>-15.87%</td>\n      <td>1,220,029</td>\n      <td>...</td>\n      <td>0</td>\n      <td>NaN</td>\n      <td>0</td>\n      <td>NaN</td>\n      <td>40,249</td>\n      <td>10.90%</td>\n      <td>0</td>\n      <td>NaN</td>\n      <td>0</td>\n      <td>NaN</td>\n    </tr>\n    <tr>\n      <th>NaN</th>\n      <td>John D. Rockefeller, Jr. MEM PKWY</td>\n      <td>1,373,817</td>\n      <td>-3.70%</td>\n      <td>144,764</td>\n      <td>2.19%</td>\n      <td>10,800</td>\n      <td>0.00%</td>\n      <td>1,737,179</td>\n      <td>2.19%</td>\n      <td>2,700</td>\n      <td>...</td>\n      <td>0</td>\n      <td>NaN</td>\n      <td>0</td>\n      <td>NaN</td>\n      <td>0</td>\n      <td>NaN</td>\n      <td>0</td>\n      <td>NaN</td>\n      <td>0</td>\n      <td>NaN</td>\n    </tr>\n    <tr>\n      <th>NaN</th>\n      <td>Yellowstone NP</td>\n      <td>1,865,088</td>\n      <td>-5.32%</td>\n      <td>3,125,466</td>\n      <td>-32.55%</td>\n      <td>1,099,227</td>\n      <td>-5.70%</td>\n      <td>37,505,599</td>\n      <td>-32.55%</td>\n      <td>557,631</td>\n      <td>...</td>\n      <td>19,731</td>\n      <td>-75.65%</td>\n      <td>23,290</td>\n      <td>-70.99%</td>\n      <td>33,457</td>\n      <td>2.94%</td>\n      <td>0</td>\n      <td>-74.86%</td>\n      <td>2,491</td>\n      <td>NaN</td>\n    </tr>\n    <tr>\n      <th>NaN</th>\n      <td>Subtotal Wyoming</td>\n      <td>7,089,437</td>\n      <td>-4.60%</td>\n      <td>4,883,337</td>\n      <td>-27.08%</td>\n      <td>2,334,598</td>\n      <td>-16.40%</td>\n      <td>58,600,107</td>\n      <td>-27.08%</td>\n      <td>1,783,120</td>\n      <td>...</td>\n      <td>21,732</td>\n      <td>-74.93%</td>\n      <td>31,763</td>\n      <td>-63.77%</td>\n      <td>73,706</td>\n      <td>NaN</td>\n      <td>0</td>\n      <td>NaN</td>\n      <td>2,491</td>\n      <td>NaN</td>\n    </tr>\n    <tr>\n      <th>Total</th>\n      <td>Grand Total</td>\n      <td>237,064,318</td>\n      <td>-27.62%</td>\n      <td>87,912,527</td>\n      <td>-26.23%</td>\n      <td>148,436,337</td>\n      <td>NaN</td>\n      <td>1,054,952,561</td>\n      <td>-26.23%</td>\n      <td>80,268,799</td>\n      <td>...</td>\n      <td>1,883,220</td>\n      <td>NaN</td>\n      <td>1,459,486</td>\n      <td>NaN</td>\n      <td>1,434,938</td>\n      <td>NaN</td>\n      <td>30,708</td>\n      <td>NaN</td>\n      <td>906,939</td>\n      <td>NaN</td>\n    </tr>\n  </tbody>\n</table>\n<p>517 rows × 25 columns</p>\n</div>"
     },
     "metadata": {},
     "execution_count": 45
    }
   ],
   "source": [
    "path = os.path.join(\"data/visitors_2020.csv\")\n",
    "visitorCount_20 = pd.read_csv(path, header=[7], encoding='utf-8', delimiter=\",\", index_col=0)\n",
    "visitorCount_20 = visitorCount_20.dropna(axis=1, how='all', thresh=3, inplace=False)\n",
    "visitorCount_20\n",
    "\n"
   ]
  },
  {
   "cell_type": "code",
   "execution_count": 40,
   "metadata": {},
   "outputs": [
    {
     "output_type": "execute_result",
     "data": {
      "text/plain": [
       "<pandas.core.groupby.generic.DataFrameGroupBy object at 0x000001E2867C9D90>"
      ]
     },
     "metadata": {},
     "execution_count": 40
    }
   ],
   "source": []
  },
  {
   "cell_type": "code",
   "execution_count": 41,
   "metadata": {},
   "outputs": [],
   "source": [
    "# tracounts = tracounts.set_index('UnitCode')\n",
    "# tracounts = tracounts[['ParkName', 'ParkType', 'Region', 'Year', 'Month','TrafficCount', 'TrafficCountTotal.1']].copy()\n",
    "# tracounts = tracounts.rename(columns={\"TrafficCountTotal.1\": \"TrafficCountTotal\"})\n",
    "# tracounts.head(30)"
   ]
  },
  {
   "cell_type": "code",
   "execution_count": 44,
   "metadata": {},
   "outputs": [
    {
     "output_type": "stream",
     "name": "stdout",
     "text": [
      "<pandas.core.groupby.generic.DataFrameGroupBy object at 0x000001E2867C9D90>\n"
     ]
    }
   ],
   "source": []
  },
  {
   "cell_type": "code",
   "execution_count": null,
   "metadata": {},
   "outputs": [],
   "source": []
  }
 ],
 "metadata": {
  "kernelspec": {
   "name": "python3",
   "display_name": "Python 3.8.5 64-bit ('PythonData': conda)"
  },
  "language_info": {
   "codemirror_mode": {
    "name": "ipython",
    "version": 3
   },
   "file_extension": ".py",
   "mimetype": "text/x-python",
   "name": "python",
   "nbconvert_exporter": "python",
   "pygments_lexer": "ipython3",
   "version": "3.8.5"
  },
  "interpreter": {
   "hash": "371feff4cd96d3128c260eda6ff086b3fa9bce77c98637e69c182bcfaa158ef5"
  }
 },
 "nbformat": 4,
 "nbformat_minor": 4
}